{
 "cells": [
  {
   "cell_type": "code",
   "execution_count": 16,
   "id": "7bcfd3eb",
   "metadata": {},
   "outputs": [],
   "source": [
    "import os\n",
    "from pprint import pprint\n",
    "\n",
    "from langchain_core.messages import AIMessage, HumanMessage, RemoveMessage, trim_messages\n",
    "from langchain_openai import ChatOpenAI\n",
    "from langgraph.graph import MessagesState, StateGraph, START, END\n",
    "from IPython.display import Image, display\n",
    "\n",
    "\n",
    "os.environ[\"LANGSMITH_TRACING\"] = \"true\"\n",
    "os.environ[\"LANGSMITH_PROJECT\"] = \"langchain-academy\""
   ]
  },
  {
   "cell_type": "code",
   "execution_count": 4,
   "id": "7c2a7b1f",
   "metadata": {},
   "outputs": [
    {
     "name": "stdout",
     "output_type": "stream",
     "text": [
      "==================================\u001b[1m Ai Message \u001b[0m==================================\n",
      "Name: Bot\n",
      "\n",
      "So you said you were researching ocean mammals?\n",
      "================================\u001b[1m Human Message \u001b[0m=================================\n",
      "Name: Lance\n",
      "\n",
      "Yes, I know about whales. But what others should I learn about?\n"
     ]
    }
   ],
   "source": [
    "messages = [\n",
    "    AIMessage(f\"So you said you were researching ocean mammals?\", name=\"Bot\"),\n",
    "    HumanMessage(f\"Yes, I know about whales. But what others should I learn about?\", name=\"Lance\")\n",
    "]\n",
    "\n",
    "for m in messages:\n",
    "    m.pretty_print()"
   ]
  },
  {
   "cell_type": "code",
   "execution_count": 6,
   "id": "70d90c88",
   "metadata": {},
   "outputs": [
    {
     "data": {
      "text/plain": [
       "AIMessage(content='That\\'s awesome that you\\'re learning about ocean mammals! Besides whales, there are plenty of fascinating marine mammals that inhabit our oceans. Here are some noteworthy ones to explore:\\n\\n### **1. Dolphins**\\n   - Dolphins are closely related to whales and belong to the cetacean family. \\n   - Some common species include bottlenose dolphins, spinner dolphins, and orcas (killer whales, which are actually dolphins!).\\n   - Known for their intelligence, social behavior, and playful personalities, dolphins can communicate through clicks and whistles.\\n\\n### **2. Seals**\\n   - Seals belong to the family **Pinnipedia**, which includes sea lions and walruses as well.\\n   - Common species include harbor seals and elephant seals.\\n   - They spend much of their time in water but come ashore to breed and rest.\\n   \\n### **3. Sea Lions**\\n   - These are also **pinnipeds**, but unlike seals, they are more mobile on land due to their ability to use their flippers as \"feet.\"\\n   - California sea lions are particularly well-known for their playful and curious behavior.\\n\\n### **4. Manatees** (aka. \"Sea Cows\")\\n   - These gentle, slow-moving herbivores are found in warm coastal areas, estuaries, and freshwater habitats.\\n   - There are three species of manatees: West Indian, Amazonian, and African manatees.\\n   - Closely related to dugongs, manatees are threatened by habitat loss and boat collisions.\\n\\n### **5. Dugongs**\\n   - Dugongs are similar to manatees but live exclusively in saltwater, particularly in warm coastal areas of the Indian and Pacific Oceans.\\n   - They are the only strictly marine herbivorous mammal, grazing on seagrass meadows.\\n\\n### **6. Walruses**\\n   - Characterized by their large tusks and whiskers, walruses inhabit Arctic waters.\\n   - They are social animals and rely on their tusks for activities like climbing onto ice and defending themselves.\\n\\n### **7. Otters**\\n   - Although not exclusive to oceans, **sea otters** are fascinating marine mammals.\\n   - Found along the coasts of the northern Pacific Ocean, sea otters use tools (like rocks) to crack open shellfish.\\n   - They play a crucial role in maintaining kelp forest ecosystems by preying on sea urchins.\\n\\n### **8. Polar Bears** (Semi-Aquatic Mammals)\\n   - While not entirely aquatic, polar bears are considered marine mammals due to their reliance on the ocean for food and habitat.\\n   - They are apex predators in Arctic marine ecosystems, feeding primarily on seals.\\n\\n### **9. Shark Bay Dolphins** (Unique Hunting Behavior)\\n   - Some dolphin populations in places like Shark Bay, Australia, use unique tools, like sponges, to hunt for prey along the seabed.\\n   - This learned behavior adds a fascinating layer to dolphin ecology.\\n\\nThese species represent just some of the amazing diversity of marine mammals. Each has unique characteristics, behaviors, and challenges in adapting to ocean life. Would you like to dive deeper into any specific species?', additional_kwargs={'refusal': None}, response_metadata={'token_usage': {'completion_tokens': 645, 'prompt_tokens': 39, 'total_tokens': 684, 'completion_tokens_details': {'accepted_prediction_tokens': 0, 'audio_tokens': 0, 'reasoning_tokens': 0, 'rejected_prediction_tokens': 0}, 'prompt_tokens_details': {'audio_tokens': 0, 'cached_tokens': 0}}, 'model_name': 'gpt-4o-2024-11-20', 'system_fingerprint': 'fp_ee1d74bde0', 'id': 'chatcmpl-Br4y9I5iKbn5q4jQ6Loz0bDmkGOMt', 'service_tier': None, 'finish_reason': 'stop', 'logprobs': None}, id='run--128f862b-ddc2-4e44-bac4-46a429c1e0ee-0', usage_metadata={'input_tokens': 39, 'output_tokens': 645, 'total_tokens': 684, 'input_token_details': {'audio': 0, 'cache_read': 0}, 'output_token_details': {'audio': 0, 'reasoning': 0}})"
      ]
     },
     "execution_count": 6,
     "metadata": {},
     "output_type": "execute_result"
    }
   ],
   "source": [
    "llm = ChatOpenAI(model=\"gpt-4o\")\n",
    "llm.invoke(messages)"
   ]
  },
  {
   "cell_type": "code",
   "execution_count": 8,
   "id": "835aa83a",
   "metadata": {},
   "outputs": [
    {
     "data": {
      "image/png": "[encoded data removed]",
      "text/plain": [
       "<IPython.core.display.Image object>"
      ]
     },
     "metadata": {},
     "output_type": "display_data"
    }
   ],
   "source": [
    "def chat_model_node(state: MessagesState):\n",
    "    return {\"messages\": llm.invoke(state[\"messages\"])}\n",
    "\n",
    "builder = StateGraph(MessagesState)\n",
    "builder.add_node(\"chat_model\", chat_model_node)\n",
    "\n",
    "builder.add_edge(START, \"chat_model\")\n",
    "builder.add_edge(\"chat_model\", END)\n",
    "\n",
    "graph = builder.compile()\n",
    "display(Image(graph.get_graph().draw_png()))"
   ]
  },
  {
   "cell_type": "code",
   "execution_count": 9,
   "id": "4c58fb57",
   "metadata": {},
   "outputs": [
    {
     "name": "stdout",
     "output_type": "stream",
     "text": [
      "==================================\u001b[1m Ai Message \u001b[0m==================================\n",
      "Name: Bot\n",
      "\n",
      "So you said you were researching ocean mammals?\n",
      "================================\u001b[1m Human Message \u001b[0m=================================\n",
      "Name: Lance\n",
      "\n",
      "Yes, I know about whales. But what others should I learn about?\n",
      "==================================\u001b[1m Ai Message \u001b[0m==================================\n",
      "\n",
      "That's fantastic! Whales are indeed some of the most fascinating ocean mammals. There’s a whole world of marine mammals worth exploring. Here are some key groups you should look into:\n",
      "\n",
      "### **1. Dolphins**\n",
      "Dolphins are highly intelligent and social animals. Common species include the bottlenose dolphin, spinner dolphin, and the orca (killer whale)—which is actually part of the dolphin family. They use echolocation to hunt and navigate.\n",
      "\n",
      "### **2. Porpoises**\n",
      "Porpoises look similar to dolphins but are smaller and have blunt, rounded snouts. They are shy compared to dolphins and have spade-shaped teeth instead of conical ones.\n",
      "\n",
      "### **3. Seals**\n",
      "Seals belong to the pinniped group and are known for their streamlined bodies and flippers. Common species include harbor seals and leopard seals. They rely on their blubber for warmth in cold water.\n",
      "\n",
      "### **4. Sea Lions**\n",
      "Often mistaken for seals, sea lions have external ear flaps (unlike seals) and can \"walk\" on land using their flippers. They are playful and social marine mammals.\n",
      "\n",
      "### **5. Walruses**\n",
      "Walruses are large pinnipeds with distinctive tusks and whiskers. They live in Arctic waters and use their tusks to haul themselves out of the water and search for food like shellfish.\n",
      "\n",
      "### **6. Manatees**\n",
      "Manatees are gentle herbivores related to elephants. Known as \"sea cows,\" they graze on seagrass and can be found in warm coastal waters.\n",
      "\n",
      "### **7. Dugongs**\n",
      "Similar to manatees, dugongs are herbivorous marine mammals but are slightly more streamlined. They inhabit coastal areas of the Indian and Pacific Oceans.\n",
      "\n",
      "### **8. Polar Bears**\n",
      "While not fully aquatic, polar bears are marine mammals because they depend on the ocean for hunting seals. They are incredible swimmers and have thick fur and fat layers for Arctic conditions.\n",
      "\n",
      "### **9. Sea Otters**\n",
      "Sea otters are small marine mammals known for their adorable behavior like cracking shells on their chests. They are vital to ecosystems, keeping kelp forests healthy by controlling sea urchin populations.\n",
      "\n",
      "### **10. Sperm Whales**\n",
      "Though technically whales, sperm whales deserve a special mention because of their fascinating social behaviors, deep-diving abilities, and gigantic brains.\n",
      "\n",
      "### **Honorable Mentions:**\n",
      "- Beaked Whales: Rare and mysterious deep-diving whales.\n",
      "- Narwhals: Arctic whales with iconic spiral tusks.\n",
      "- Marine Fissipeds: Includes semi-aquatic species like coastal river otters and some bears.\n",
      "\n",
      "I hope this helps expand your study beyond whales! Which species are you most curious about? Let me know, and I can dive deeper into their biology or behavior.\n"
     ]
    }
   ],
   "source": [
    "output = graph.invoke({'messages': messages})\n",
    "for m in output['messages']:\n",
    "    m.pretty_print()"
   ]
  },
  {
   "cell_type": "code",
   "execution_count": 11,
   "id": "a4466de3",
   "metadata": {},
   "outputs": [
    {
     "data": {
      "image/png": "[encoded data removed]",
      "text/plain": [
       "<IPython.core.display.Image object>"
      ]
     },
     "metadata": {},
     "output_type": "display_data"
    }
   ],
   "source": [
    "def filter_messages(state: MessagesState):\n",
    "    delete_messages = [RemoveMessage(id=m.id) for m in state[\"messages\"][:-2]]\n",
    "    return {\"messages\": delete_messages}\n",
    "\n",
    "def chat_model_node(state: MessagesState):    \n",
    "    return {\"messages\": [llm.invoke(state[\"messages\"])]}\n",
    "\n",
    "\n",
    "builder = StateGraph(MessagesState)\n",
    "\n",
    "builder.add_node(\"filter\", filter_messages)\n",
    "builder.add_node(\"chat_model\", chat_model_node)\n",
    "\n",
    "builder.add_edge(START, \"filter\")\n",
    "builder.add_edge(\"filter\", \"chat_model\")\n",
    "builder.add_edge(\"chat_model\", END)\n",
    "\n",
    "graph = builder.compile()\n",
    "display(Image(graph.get_graph().draw_png()))"
   ]
  },
  {
   "cell_type": "code",
   "execution_count": 12,
   "id": "93785c72",
   "metadata": {},
   "outputs": [
    {
     "name": "stdout",
     "output_type": "stream",
     "text": [
      "==================================\u001b[1m Ai Message \u001b[0m==================================\n",
      "Name: Bot\n",
      "\n",
      "So you said you were researching ocean mammals?\n",
      "================================\u001b[1m Human Message \u001b[0m=================================\n",
      "Name: Lance\n",
      "\n",
      "Yes, I know about whales. But what others should I learn about?\n",
      "==================================\u001b[1m Ai Message \u001b[0m==================================\n",
      "\n",
      "That's awesome, Lance! Whales are fascinating ocean mammals, but there's a whole world of other marine mammals to explore. Here are a few you might find intriguing:\n",
      "\n",
      "### **1. Dolphins**\n",
      "- Dolphins are intelligent, social, and highly playful creatures. They belong to the same family as whales (cetaceans) and can be found in oceans all over the world.\n",
      "- Bottlenose dolphins are the most well-known species, but others include spinner dolphins and orcas (which are technically dolphins!).\n",
      "\n",
      "---\n",
      "\n",
      "### **2. Sea Otters**\n",
      "- Sea otters are adorable and critical to marine ecosystems. They use tools (like rocks) to open their shellfish meals and spend much of their lives floating on their backs in kelp forests.\n",
      "- Fun fact: Sea otters have the thickest fur in the animal kingdom to keep warm in icy waters.\n",
      "\n",
      "---\n",
      "\n",
      "### **3. Seals**\n",
      "- Seals, also known as \"pinnipeds,\" are semi-aquatic mammals that live in a variety of habitats, from tropical waters to icy polar regions.\n",
      "- Common types include harbor seals and elephant seals, which are famous for their massive size and loud vocalizations.\n",
      "\n",
      "---\n",
      "\n",
      "### **4. Sea Lions**\n",
      "- Related to seals, sea lions are more agile on land thanks to their ability to \"walk\" using their flippers.\n",
      "- They are often seen playing in the surf, basking on rocky shores, or even performing tricks in aquariums.\n",
      "\n",
      "---\n",
      "\n",
      "### **5. Dugongs and Manatees**\n",
      "- Known as \"sea cows,\" these gentle herbivores graze on seagrass and are found in shallow coastal waters.\n",
      "- Dugongs are more ocean-oriented, while manatees also inhabit freshwater rivers.\n",
      "\n",
      "---\n",
      "\n",
      "### **6. Walruses**\n",
      "- Walruses are easily recognizable because of their tusks and whiskered faces. They live in the Arctic and use their tusks for pulling themselves onto sea ice or fighting.\n",
      "- They're also expert divers and can hunt for clams on the ocean floor.\n",
      "\n",
      "---\n",
      "\n",
      "### **7. Polar Bears** *(technically marine mammals!)*\n",
      "- While they are land mammals, polar bears depend heavily on the marine environment, particularly sea ice, to hunt for seals.\n",
      "- They're considered marine mammals because they spend so much of their life at sea and swimming.\n",
      "\n",
      "---\n",
      "\n",
      "### **8. Sperm Whales and Beaked Whales** (different types of cetaceans)\n",
      "- Beyond the common baleen whales you may already know, toothed whales like sperm whales and beaked whales use echolocation to hunt.\n",
      "- Sperm whales are famous for their deep dives and their connection with the mysterious giant squid.\n",
      "\n",
      "---\n",
      "\n",
      "If you're up for more, dive deeper into understanding their adaptations for ocean life (breathing, thermoregulation, echolocation, social behaviors, etc.). Let me know if you'd like recommendations for books, documentaries, or specific topics about them! 🌊\n"
     ]
    }
   ],
   "source": [
    "messages = [\n",
    "    AIMessage(\"Hi.\", name=\"Bot\", id=\"1\"),\n",
    "    HumanMessage(\"Hi.\", name=\"Lance\", id=\"2\"),\n",
    "    AIMessage(\"So you said you were researching ocean mammals?\", name=\"Bot\", id=\"3\"),\n",
    "    HumanMessage(\"Yes, I know about whales. But what others should I learn about?\", name=\"Lance\", id=\"4\")\n",
    "]\n",
    "\n",
    "output = graph.invoke({'messages': messages})\n",
    "for m in output['messages']:\n",
    "    m.pretty_print()"
   ]
  },
  {
   "cell_type": "code",
   "execution_count": 13,
   "id": "0d33b752",
   "metadata": {},
   "outputs": [
    {
     "data": {
      "image/png": "[encoded data removed]",
      "text/plain": [
       "<IPython.core.display.Image object>"
      ]
     },
     "metadata": {},
     "output_type": "display_data"
    }
   ],
   "source": [
    "def chat_model_node(state: MessagesState):\n",
    "    return {\"messages\": [llm.invoke(state[\"messages\"][-1:])]}\n",
    "\n",
    "builder = StateGraph(MessagesState)\n",
    "builder.add_node(\"chat_model\", chat_model_node)\n",
    "\n",
    "builder.add_edge(START, \"chat_model\")\n",
    "builder.add_edge(\"chat_model\", END)\n",
    "\n",
    "graph = builder.compile()\n",
    "display(Image(graph.get_graph().draw_png()))"
   ]
  },
  {
   "cell_type": "code",
   "execution_count": 14,
   "id": "6e041109",
   "metadata": {},
   "outputs": [
    {
     "name": "stdout",
     "output_type": "stream",
     "text": [
      "==================================\u001b[1m Ai Message \u001b[0m==================================\n",
      "Name: Bot\n",
      "\n",
      "Hi.\n",
      "================================\u001b[1m Human Message \u001b[0m=================================\n",
      "Name: Lance\n",
      "\n",
      "Hi.\n",
      "==================================\u001b[1m Ai Message \u001b[0m==================================\n",
      "Name: Bot\n",
      "\n",
      "So you said you were researching ocean mammals?\n",
      "================================\u001b[1m Human Message \u001b[0m=================================\n",
      "Name: Lance\n",
      "\n",
      "Yes, I know about whales. But what others should I learn about?\n",
      "==================================\u001b[1m Ai Message \u001b[0m==================================\n",
      "\n",
      "That's awesome, Lance! Whales are fascinating ocean mammals, but there's a whole world of other marine mammals to explore. Here are a few you might find intriguing:\n",
      "\n",
      "### **1. Dolphins**\n",
      "- Dolphins are intelligent, social, and highly playful creatures. They belong to the same family as whales (cetaceans) and can be found in oceans all over the world.\n",
      "- Bottlenose dolphins are the most well-known species, but others include spinner dolphins and orcas (which are technically dolphins!).\n",
      "\n",
      "---\n",
      "\n",
      "### **2. Sea Otters**\n",
      "- Sea otters are adorable and critical to marine ecosystems. They use tools (like rocks) to open their shellfish meals and spend much of their lives floating on their backs in kelp forests.\n",
      "- Fun fact: Sea otters have the thickest fur in the animal kingdom to keep warm in icy waters.\n",
      "\n",
      "---\n",
      "\n",
      "### **3. Seals**\n",
      "- Seals, also known as \"pinnipeds,\" are semi-aquatic mammals that live in a variety of habitats, from tropical waters to icy polar regions.\n",
      "- Common types include harbor seals and elephant seals, which are famous for their massive size and loud vocalizations.\n",
      "\n",
      "---\n",
      "\n",
      "### **4. Sea Lions**\n",
      "- Related to seals, sea lions are more agile on land thanks to their ability to \"walk\" using their flippers.\n",
      "- They are often seen playing in the surf, basking on rocky shores, or even performing tricks in aquariums.\n",
      "\n",
      "---\n",
      "\n",
      "### **5. Dugongs and Manatees**\n",
      "- Known as \"sea cows,\" these gentle herbivores graze on seagrass and are found in shallow coastal waters.\n",
      "- Dugongs are more ocean-oriented, while manatees also inhabit freshwater rivers.\n",
      "\n",
      "---\n",
      "\n",
      "### **6. Walruses**\n",
      "- Walruses are easily recognizable because of their tusks and whiskered faces. They live in the Arctic and use their tusks for pulling themselves onto sea ice or fighting.\n",
      "- They're also expert divers and can hunt for clams on the ocean floor.\n",
      "\n",
      "---\n",
      "\n",
      "### **7. Polar Bears** *(technically marine mammals!)*\n",
      "- While they are land mammals, polar bears depend heavily on the marine environment, particularly sea ice, to hunt for seals.\n",
      "- They're considered marine mammals because they spend so much of their life at sea and swimming.\n",
      "\n",
      "---\n",
      "\n",
      "### **8. Sperm Whales and Beaked Whales** (different types of cetaceans)\n",
      "- Beyond the common baleen whales you may already know, toothed whales like sperm whales and beaked whales use echolocation to hunt.\n",
      "- Sperm whales are famous for their deep dives and their connection with the mysterious giant squid.\n",
      "\n",
      "---\n",
      "\n",
      "If you're up for more, dive deeper into understanding their adaptations for ocean life (breathing, thermoregulation, echolocation, social behaviors, etc.). Let me know if you'd like recommendations for books, documentaries, or specific topics about them! 🌊\n",
      "================================\u001b[1m Human Message \u001b[0m=================================\n",
      "Name: Lance\n",
      "\n",
      "Tell me more about Narwhals!\n"
     ]
    }
   ],
   "source": [
    "messages.append(output['messages'][-1])\n",
    "messages.append(HumanMessage(f\"Tell me more about Narwhals!\", name=\"Lance\"))\n",
    "\n",
    "for m in messages:\n",
    "    m.pretty_print()"
   ]
  },
  {
   "cell_type": "code",
   "execution_count": 15,
   "id": "7633f56d",
   "metadata": {},
   "outputs": [
    {
     "name": "stdout",
     "output_type": "stream",
     "text": [
      "==================================\u001b[1m Ai Message \u001b[0m==================================\n",
      "Name: Bot\n",
      "\n",
      "Hi.\n",
      "================================\u001b[1m Human Message \u001b[0m=================================\n",
      "Name: Lance\n",
      "\n",
      "Hi.\n",
      "==================================\u001b[1m Ai Message \u001b[0m==================================\n",
      "Name: Bot\n",
      "\n",
      "So you said you were researching ocean mammals?\n",
      "================================\u001b[1m Human Message \u001b[0m=================================\n",
      "Name: Lance\n",
      "\n",
      "Yes, I know about whales. But what others should I learn about?\n",
      "==================================\u001b[1m Ai Message \u001b[0m==================================\n",
      "\n",
      "That's awesome, Lance! Whales are fascinating ocean mammals, but there's a whole world of other marine mammals to explore. Here are a few you might find intriguing:\n",
      "\n",
      "### **1. Dolphins**\n",
      "- Dolphins are intelligent, social, and highly playful creatures. They belong to the same family as whales (cetaceans) and can be found in oceans all over the world.\n",
      "- Bottlenose dolphins are the most well-known species, but others include spinner dolphins and orcas (which are technically dolphins!).\n",
      "\n",
      "---\n",
      "\n",
      "### **2. Sea Otters**\n",
      "- Sea otters are adorable and critical to marine ecosystems. They use tools (like rocks) to open their shellfish meals and spend much of their lives floating on their backs in kelp forests.\n",
      "- Fun fact: Sea otters have the thickest fur in the animal kingdom to keep warm in icy waters.\n",
      "\n",
      "---\n",
      "\n",
      "### **3. Seals**\n",
      "- Seals, also known as \"pinnipeds,\" are semi-aquatic mammals that live in a variety of habitats, from tropical waters to icy polar regions.\n",
      "- Common types include harbor seals and elephant seals, which are famous for their massive size and loud vocalizations.\n",
      "\n",
      "---\n",
      "\n",
      "### **4. Sea Lions**\n",
      "- Related to seals, sea lions are more agile on land thanks to their ability to \"walk\" using their flippers.\n",
      "- They are often seen playing in the surf, basking on rocky shores, or even performing tricks in aquariums.\n",
      "\n",
      "---\n",
      "\n",
      "### **5. Dugongs and Manatees**\n",
      "- Known as \"sea cows,\" these gentle herbivores graze on seagrass and are found in shallow coastal waters.\n",
      "- Dugongs are more ocean-oriented, while manatees also inhabit freshwater rivers.\n",
      "\n",
      "---\n",
      "\n",
      "### **6. Walruses**\n",
      "- Walruses are easily recognizable because of their tusks and whiskered faces. They live in the Arctic and use their tusks for pulling themselves onto sea ice or fighting.\n",
      "- They're also expert divers and can hunt for clams on the ocean floor.\n",
      "\n",
      "---\n",
      "\n",
      "### **7. Polar Bears** *(technically marine mammals!)*\n",
      "- While they are land mammals, polar bears depend heavily on the marine environment, particularly sea ice, to hunt for seals.\n",
      "- They're considered marine mammals because they spend so much of their life at sea and swimming.\n",
      "\n",
      "---\n",
      "\n",
      "### **8. Sperm Whales and Beaked Whales** (different types of cetaceans)\n",
      "- Beyond the common baleen whales you may already know, toothed whales like sperm whales and beaked whales use echolocation to hunt.\n",
      "- Sperm whales are famous for their deep dives and their connection with the mysterious giant squid.\n",
      "\n",
      "---\n",
      "\n",
      "If you're up for more, dive deeper into understanding their adaptations for ocean life (breathing, thermoregulation, echolocation, social behaviors, etc.). Let me know if you'd like recommendations for books, documentaries, or specific topics about them! 🌊\n",
      "================================\u001b[1m Human Message \u001b[0m=================================\n",
      "Name: Lance\n",
      "\n",
      "Tell me more about Narwhals!\n",
      "==================================\u001b[1m Ai Message \u001b[0m==================================\n",
      "\n",
      "Certainly! Narwhals are fascinating marine mammals that belong to the Monodontidae family, which also includes beluga whales. Their scientific name is *Monodon monoceros*, meaning \"one tooth, one horn,\" due to their most iconic feature: the long, spiral tusk. Here's a deeper dive into the world of narwhals:\n",
      "\n",
      "### Physical Characteristics\n",
      "- **Tusk**: The narwhal's tusk is actually an elongated tooth, usually the left upper tooth, that grows straight through the whale's upper lip. It can reach up to **10 feet (3 meters)** long and is primarily found in male narwhals, though some females may also have smaller, less pronounced tusks. It follows a unique spiral structure, and scientists believe it may act as a sensory organ to detect environmental changes, although its full purpose remains mysterious.\n",
      "- **Size**: Narwhals are medium-sized whales, with males averaging around **11 to 17 feet in length** and weighing up to **3,500 pounds**. Females are slightly smaller.\n",
      "- **Coloration**: They have mottled or spotted bodies, which transition from dark gray or black in youth to lighter shades as they age. Some older narwhals appear nearly white.\n",
      "\n",
      "### Habitat and Range\n",
      "Narwhals are Arctic whales primarily found in the cold waters of the North Atlantic and Arctic Oceans. Their range includes areas around **Greenland**, **Canada**, and **Russia**, particularly the bays, fjords, and coastal areas of the Arctic. They are highly adapted to icy environments.\n",
      "\n",
      "### Diet\n",
      "Narwhals are carnivorous and mainly feed on fish, squid, and shrimp. Their favorite prey includes **Arctic cod**, **halibut**, and **herring**. Since they lack a functional set of teeth, they tend to suck in or swallow their prey whole.\n",
      "\n",
      "### Behavior\n",
      "- **Social Structure**: Narwhals are social creatures that travel in pods, typically ranging in size from 5 to 10 individuals. Sometimes, larger groups of over 100 narwhals may be observed congregating, especially in the summer.\n",
      "- **Diving**: Narwhals are exceptional divers and can plunge to depths of up to **1,500 meters (4,900 feet)** to forage for food. They stay underwater for as long as 25 minutes while holding their breath.\n",
      "- **Migratory Patterns**: Narwhals follow seasonal migration patterns, spending winters in deep waters under the ice and moving to coastal areas in the summer when the ice melts.\n",
      "\n",
      "### Conservation Status\n",
      "Narwhals are considered **Near Threatened** on the IUCN Red List. Their populations are vulnerable due to shrinking Arctic sea ice caused by climate change, which affects habitat and prey availability. Additionally, they face risks from fishing, ship traffic, and hunting by indigenous communities (though this is typically done sustainably under traditional practices).\n",
      "\n",
      "### Fun Facts\n",
      "1. **\"Unicorns of the sea\":** Narwhals have inspired mythical tales due to their striking tusks. Historically, narwhal tusks were sometimes sold as \"unicorn horns\" to European royalty and believed to have magical healing properties.\n",
      "2. **Tusks tell stories:** Scientists can analyze the layers of a narwhal’s tusk to learn about its diet, environment, and exposure to pollutants over decades.\n",
      "3. **Silent swimmers:** Narwhals use echolocation (pulses and clicks) to navigate and find food, an important adaptation since their icy habitat can be perpetually dark.\n",
      "\n",
      "Narwhals are incredible creatures that symbolize the rich biodiversity of the Arctic. Researchers continue studying them to uncover more about their mysterious lives!\n"
     ]
    }
   ],
   "source": [
    "output = graph.invoke({'messages': messages})\n",
    "for m in output['messages']:\n",
    "    m.pretty_print()"
   ]
  },
  {
   "cell_type": "code",
   "execution_count": 18,
   "id": "1dc4365a",
   "metadata": {},
   "outputs": [
    {
     "data": {
      "image/png": "[encoded data removed]",
      "text/plain": [
       "<IPython.core.display.Image object>"
      ]
     },
     "metadata": {},
     "output_type": "display_data"
    }
   ],
   "source": [
    "def chat_model_node(state: MessagesState):\n",
    "    messages = trim_messages(\n",
    "        state[\"messages\"],\n",
    "        max_tokens=100,\n",
    "        strategy=\"last\",\n",
    "        token_counter=ChatOpenAI(model=\"gpt-4o\"),\n",
    "        allow_partial=False,\n",
    "    )\n",
    "    return {\"messages\": [llm.invoke(messages)]}\n",
    "\n",
    "\n",
    "builder = StateGraph(MessagesState)\n",
    "\n",
    "builder.add_node(\"chat_model\", chat_model_node)\n",
    "builder.add_edge(START, \"chat_model\")\n",
    "builder.add_edge(\"chat_model\", END)\n",
    "\n",
    "graph = builder.compile()\n",
    "display(Image(graph.get_graph().draw_png()))"
   ]
  },
  {
   "cell_type": "code",
   "execution_count": 19,
   "id": "2e5c5a2d",
   "metadata": {},
   "outputs": [],
   "source": [
    "messages.append(output['messages'][-1])\n",
    "messages.append(HumanMessage(f\"Tell me where Orcas live!\", name=\"Lance\"))"
   ]
  },
  {
   "cell_type": "code",
   "execution_count": 22,
   "id": "14241b14",
   "metadata": {},
   "outputs": [
    {
     "data": {
      "text/plain": [
       "[HumanMessage(content='Tell me where Orcas live!', additional_kwargs={}, response_metadata={}, name='Lance')]"
      ]
     },
     "execution_count": 22,
     "metadata": {},
     "output_type": "execute_result"
    }
   ],
   "source": [
    "trim_messages(\n",
    "    messages,\n",
    "    max_tokens=100,\n",
    "    strategy=\"last\",\n",
    "    token_counter=ChatOpenAI(model=\"gpt-4o\"),\n",
    "    allow_partial=False\n",
    "    # allow_partial=True\n",
    ")"
   ]
  },
  {
   "cell_type": "code",
   "execution_count": 23,
   "id": "3df9819a",
   "metadata": {},
   "outputs": [],
   "source": [
    "messages_out_trim = graph.invoke({'messages': messages})"
   ]
  },
  {
   "cell_type": "code",
   "execution_count": null,
   "id": "7d80f104",
   "metadata": {},
   "outputs": [],
   "source": []
  }
 ],
 "metadata": {
  "kernelspec": {
   "display_name": ".venv",
   "language": "python",
   "name": "python3"
  },
  "language_info": {
   "codemirror_mode": {
    "name": "ipython",
    "version": 3
   },
   "file_extension": ".py",
   "mimetype": "text/x-python",
   "name": "python",
   "nbconvert_exporter": "python",
   "pygments_lexer": "ipython3",
   "version": "3.12.3"
  }
 },
 "nbformat": 4,
 "nbformat_minor": 5
}
